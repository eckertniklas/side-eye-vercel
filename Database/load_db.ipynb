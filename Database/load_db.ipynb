{
 "cells": [
  {
   "cell_type": "code",
   "execution_count": 1070,
   "metadata": {},
   "outputs": [],
   "source": [
    "import psycopg2\n",
    "from psycopg2.extensions import AsIs\n",
    "import psycopg2\n",
    "import pandas as pd\n",
    "import numpy as np"
   ]
  },
  {
   "cell_type": "code",
   "execution_count": 1071,
   "metadata": {},
   "outputs": [
    {
     "data": {
      "text/plain": [
       "{'dbname': 'gta',\n",
       " 'port': 5432,\n",
       " 'user': 'gta_p8',\n",
       " 'password': 'r7sdkfdq',\n",
       " 'host': 'ikgpgis.ethz.ch'}"
      ]
     },
     "metadata": {},
     "output_type": "display_data"
    }
   ],
   "source": [
    "%run -i ../sql_helpers.py\n",
    "display(db_credentials)"
   ]
  },
  {
   "cell_type": "code",
   "execution_count": 1072,
   "metadata": {},
   "outputs": [],
   "source": [
    "kirchen_zuerich = pd.read_csv(\"csv/kirchen-zurich.csv\", encoding = \"utf-8\", sep=\"\t\")\n",
    "restaurant_zurich = pd.read_csv(\"csv/restaurant-zurich.csv\", encoding = \"utf-8\", sep=\"\t\")"
   ]
  },
  {
   "cell_type": "code",
   "execution_count": 1073,
   "metadata": {},
   "outputs": [],
   "source": [
    "conn = psycopg2.connect(**db_credentials)\n",
    "cur = conn.cursor()"
   ]
  },
  {
   "cell_type": "code",
   "execution_count": 1074,
   "metadata": {},
   "outputs": [
    {
     "data": {
      "text/plain": [
       "b\"INSERT INTO church (address_id, church_name) VALUES (100, 'kirche')\""
      ]
     },
     "execution_count": 1074,
     "metadata": {},
     "output_type": "execute_result"
    }
   ],
   "source": [
    "sql_string_with_placeholders = \"INSERT INTO church (address_id, church_name) VALUES (%s, %s)\"\n",
    "cur.mogrify(sql_string_with_placeholders,(100, \"kirche\"))"
   ]
  },
  {
   "cell_type": "code",
   "execution_count": 1075,
   "metadata": {},
   "outputs": [],
   "source": [
    "conn.commit()\n",
    "conn.close()"
   ]
  },
  {
   "cell_type": "markdown",
   "metadata": {},
   "source": [
    "Kirchen"
   ]
  },
  {
   "cell_type": "code",
   "execution_count": 1076,
   "metadata": {},
   "outputs": [],
   "source": [
    "conn = psycopg2.connect(**db_credentials)\n",
    "cur = conn.cursor()"
   ]
  },
  {
   "cell_type": "code",
   "execution_count": 1077,
   "metadata": {},
   "outputs": [],
   "source": [
    "city_id_array = np.empty(0)\n",
    "\n",
    "for idx, row in kirchen_zuerich.iterrows():\n",
    "    #prepare input values\n",
    "    church_name = row['name'] #<class 'str'> x\n",
    "\n",
    "    address_street = row['addr:street'] #<class 'str'>\n",
    "    if(type(address_street) == float):\n",
    "        address_street = 'keine Adresse vorhanden!'\n",
    "\n",
    "    address_number = row['addr:housenumber'] #<class 'str'>\n",
    "    if(type(address_number) == float):\n",
    "        address_number = '-'\n",
    "\n",
    "    city_postcode = row['addr:postcode'] #<class 'str'>\n",
    "    if pd.isna(city_postcode) == True:\n",
    "        city_postcode = '-'\n",
    "    else:\n",
    "        city_postcode = int(city_postcode)\n",
    "        city_postcode = str(city_postcode)\n",
    "\n",
    "    city_name = row['addr:city'] #<class 'str'>\n",
    "    if(type(city_name) == float):\n",
    "        city_name = '-'\n",
    "\n",
    "    #EXECUTE sql_commands:\n",
    "\n",
    "    #city_table\n",
    "    sql_fill_city = \"INSERT INTO gta_p8.city (city_postcode, city_name) SELECT '\"+city_postcode+\"', '\"+city_name+\"' WHERE NOT EXISTS (select * from gta_p8.city where city_postcode='\"+city_postcode+\"');\"\n",
    "\n",
    "    cur.execute(sql_fill_city, (city_postcode, city_name))\n",
    "\n",
    "    #address_table_preparation\n",
    "    cur.execute(\"SELECT city_id FROM gta_p8.city WHERE city_postcode='\"+city_postcode+\"';\")\n",
    "    result = cur.fetchone()\n",
    "    city_id_array = np.append(city_id_array, result[0])\n",
    "\n",
    "\n",
    "\n"
   ]
  },
  {
   "cell_type": "code",
   "execution_count": 1078,
   "metadata": {},
   "outputs": [],
   "source": [
    "conn.commit()\n",
    "conn.close()"
   ]
  },
  {
   "cell_type": "code",
   "execution_count": 1079,
   "metadata": {},
   "outputs": [],
   "source": [
    "conn = psycopg2.connect(**db_credentials)\n",
    "cur = conn.cursor()"
   ]
  },
  {
   "cell_type": "code",
   "execution_count": 1080,
   "metadata": {},
   "outputs": [],
   "source": [
    "address_id_array = np.empty(0)\n",
    "\n",
    "for idx, row in kirchen_zuerich.iterrows():\n",
    "    #prepare input values\n",
    "    church_name = row['name'] #<class 'str'> x\n",
    "\n",
    "    address_street = row['addr:street'] #<class 'str'>\n",
    "    if(type(address_street) == float):\n",
    "        address_street = 'keine Adresse vorhanden!'\n",
    "\n",
    "    address_number = row['addr:housenumber'] #<class 'str'>\n",
    "    if(type(address_number) == float):\n",
    "        address_number = '-'\n",
    "\n",
    "    city_postcode = row['addr:postcode'] #<class 'str'>\n",
    "    if pd.isna(city_postcode) == True:\n",
    "        city_postcode = '-'\n",
    "    else:\n",
    "        city_postcode = int(city_postcode)\n",
    "        city_postcode = str(city_postcode)\n",
    "\n",
    "    city_name = row['addr:city'] #<class 'str'>\n",
    "    if(type(city_name) == float):\n",
    "        city_name = '-'\n",
    "\n",
    "    lon = row[\"@lon\"] #<class 'float'>\n",
    "\n",
    "    lat = row[\"@lat\"] #<class 'float'>\n",
    "\n",
    "    #EXECUTE sql_commands:\n",
    "\n",
    "    #address_table\n",
    "    city_id_fk = str(int(city_id_array[idx]))\n",
    "\n",
    "    sql_fill_address = \"INSERT INTO gta_p8.address (address_street, address_number, city_id) SELECT '\"+address_street+\"', '\"+address_number+\"', '\"+city_id_fk+\"' WHERE NOT EXISTS (select * from gta_p8.address where address_street='\"+address_street+\"' AND address_number='\"+address_number+\"');\"\n",
    "  \n",
    "    #cur.execute(sql_fill_address, (address_street, address_number, city_id_fk))\n",
    "\n",
    "    #kirchen_table_preparation\n",
    "    cur.execute(\"SELECT address_id FROM gta_p8.address WHERE address_street='\"+address_street+\"' AND address_number='\"+address_number+\"';\")\n",
    "    result = cur.fetchone()\n",
    "    address_id_array = np.append(address_id_array, result[0])"
   ]
  },
  {
   "cell_type": "code",
   "execution_count": 1081,
   "metadata": {},
   "outputs": [],
   "source": [
    "conn.commit()\n",
    "conn.close()"
   ]
  },
  {
   "cell_type": "code",
   "execution_count": 1082,
   "metadata": {},
   "outputs": [],
   "source": [
    "conn = psycopg2.connect(**db_credentials)\n",
    "cur = conn.cursor()"
   ]
  },
  {
   "cell_type": "code",
   "execution_count": 1083,
   "metadata": {},
   "outputs": [],
   "source": [
    "for idx, row in kirchen_zuerich.iterrows():\n",
    "    #prepare input values\n",
    "    church_name = row['name'] #<class 'str'> x\n",
    "    if(type(church_name) == float): #nameless churches get skipped\n",
    "        continue\n",
    "\n",
    "    address_street = row['addr:street'] #<class 'str'>\n",
    "    if(type(address_street) == float):\n",
    "        address_street = 'keine Adresse vorhanden!'\n",
    "\n",
    "    address_number = row['addr:housenumber'] #<class 'str'>\n",
    "    if(type(address_number) == float):\n",
    "        address_number = '-'\n",
    "\n",
    "    city_postcode = row['addr:postcode'] #<class 'str'>\n",
    "    if pd.isna(city_postcode) == True:\n",
    "        city_postcode = '-'\n",
    "    else:\n",
    "        city_postcode = int(city_postcode)\n",
    "        city_postcode = str(city_postcode)\n",
    "\n",
    "    city_name = row['addr:city'] #<class 'str'>\n",
    "    if(type(city_name) == float):\n",
    "        city_name = '-'\n",
    "\n",
    "\n",
    "    #EXECUTE sql_commands:\n",
    "    address_id_fk = str(int(address_id_array[idx]))\n",
    "\n",
    "    sql_fill_church = \"INSERT INTO gta_p8.church (church_name, address_id) SELECT '\"+church_name+\"', '\"+address_id_fk+\"' WHERE NOT EXISTS (select * from gta_p8.church where church_name='\"+church_name+\"');\"\n",
    "\n",
    "    cur.execute(sql_fill_church, (church_name, address_id_fk))"
   ]
  },
  {
   "cell_type": "code",
   "execution_count": 1084,
   "metadata": {},
   "outputs": [],
   "source": [
    "conn.commit()\n",
    "conn.close()"
   ]
  },
  {
   "cell_type": "code",
   "execution_count": 1085,
   "metadata": {},
   "outputs": [],
   "source": [
    "conn = psycopg2.connect(**db_credentials)\n",
    "cur = conn.cursor()"
   ]
  },
  {
   "cell_type": "code",
   "execution_count": 1086,
   "metadata": {},
   "outputs": [],
   "source": [
    "for idx, row in kirchen_zuerich.iterrows():\n",
    "    #prepare geometry\n",
    "\n",
    "    lon = str(row[\"@lon\"]) #<class 'float'>\n",
    "\n",
    "    lat = str(row[\"@lat\"]) #<class 'float'>\n",
    "\n",
    "    church_name = row['name'] #<class 'str'> x\n",
    "    if(type(church_name) == float): #nameless churches get skipped\n",
    "        continue\n",
    "\n",
    "    geom_sql = \"UPDATE gta_p8.church SET geometry = ST_SetSRID(ST_MakePoint(\"+lon+\", \"+lat+\"),4326) WHERE church_name='\"+church_name+\"';\"\n",
    "\n",
    "    cur.execute(geom_sql)\n"
   ]
  },
  {
   "cell_type": "code",
   "execution_count": 1087,
   "metadata": {},
   "outputs": [],
   "source": [
    "conn.commit()\n",
    "conn.close()"
   ]
  },
  {
   "cell_type": "markdown",
   "metadata": {},
   "source": [
    "## Restaurants"
   ]
  },
  {
   "cell_type": "code",
   "execution_count": 1088,
   "metadata": {},
   "outputs": [],
   "source": [
    "conn = psycopg2.connect(**db_credentials)\n",
    "cur = conn.cursor()"
   ]
  },
  {
   "cell_type": "code",
   "execution_count": 1089,
   "metadata": {},
   "outputs": [],
   "source": [
    "city_id_array = np.empty(0)\n",
    "\n",
    "for idx, row in restaurant_zurich.iterrows():\n",
    "    #prepare input values\n",
    "\n",
    "    city_postcode = row['addr:postcode'] #<class 'str'>\n",
    "    if pd.isna(city_postcode) == True:\n",
    "        city_postcode = '-'\n",
    "    else:\n",
    "        city_postcode = str(int(city_postcode))\n",
    "\n",
    "    city_name = row['addr:city'] #<class 'str'>\n",
    "    if(type(city_name) == float):\n",
    "        city_name = '-'   \n",
    "\n",
    "    lon = row[\"@lon\"] #<class 'float'>\n",
    "\n",
    "    lat = row[\"@lat\"] #<class 'float'>\n",
    "\n",
    "    #EXECUTE sql_commands:\n",
    "\n",
    "    #city_table\n",
    "    sql_fill_city = \"INSERT INTO gta_p8.city (city_postcode, city_name) SELECT '\"+city_postcode+\"', '\"+city_name+\"' WHERE NOT EXISTS (select * from gta_p8.city where city_postcode='\"+city_postcode+\"');\"\n",
    "\n",
    "    cur.execute(sql_fill_city, (city_postcode, city_name))\n",
    "\n",
    "    #address_table_preparation\n",
    "    cur.execute(\"SELECT city_id FROM gta_p8.city WHERE city_postcode='\"+city_postcode+\"';\")\n",
    "    result = cur.fetchone()\n",
    "    city_id_array = np.append(city_id_array, result[0])\n",
    "    "
   ]
  },
  {
   "cell_type": "code",
   "execution_count": 1090,
   "metadata": {},
   "outputs": [],
   "source": [
    "conn.commit()\n",
    "conn.close()"
   ]
  },
  {
   "cell_type": "code",
   "execution_count": 1091,
   "metadata": {},
   "outputs": [],
   "source": [
    "conn = psycopg2.connect(**db_credentials)\n",
    "cur = conn.cursor()"
   ]
  },
  {
   "cell_type": "code",
   "execution_count": 1092,
   "metadata": {},
   "outputs": [],
   "source": [
    "address_id_array = np.empty(0)\n",
    "\n",
    "for idx, row in restaurant_zurich.iterrows():\n",
    "    #prepare input values\n",
    "    address_street = row['addr:street'] #<class 'str'>\n",
    "    if(type(address_street) == float):\n",
    "        address_street = 'keine Adresse vorhanden!'\n",
    "\n",
    "    address_number = row['addr:housenumber'] #<class 'str'>\n",
    "    if(type(address_number) == float):\n",
    "        address_number = '-'\n",
    "\n",
    "    #EXECUTE sql_commands:\n",
    "\n",
    "    #address_table\n",
    "    city_id_fk = str(int(city_id_array[idx]))\n",
    "\n",
    "    sql_fill_address = \"INSERT INTO gta_p8.address (address_street, address_number, city_id) SELECT '\"+address_street+\"', '\"+address_number+\"', '\"+city_id_fk+\"' WHERE NOT EXISTS (select * from gta_p8.address where address_street='\"+address_street+\"' AND address_number='\"+address_number+\"');\"\n",
    "  \n",
    "    cur.execute(sql_fill_address, (address_street, address_number, city_id_fk))\n",
    "\n",
    "    #kirchen_table_preparation\n",
    "    cur.execute(\"SELECT address_id FROM gta_p8.address WHERE address_street='\"+address_street+\"' AND address_number='\"+address_number+\"';\")\n",
    "    result = cur.fetchone()\n",
    "    address_id_array = np.append(address_id_array, result[0])"
   ]
  },
  {
   "cell_type": "code",
   "execution_count": 1093,
   "metadata": {},
   "outputs": [],
   "source": [
    "conn.commit()\n",
    "conn.close()"
   ]
  },
  {
   "cell_type": "code",
   "execution_count": 1094,
   "metadata": {},
   "outputs": [],
   "source": [
    "conn = psycopg2.connect(**db_credentials)\n",
    "cur = conn.cursor()"
   ]
  },
  {
   "cell_type": "code",
   "execution_count": 1095,
   "metadata": {},
   "outputs": [],
   "source": [
    "for idx, row in restaurant_zurich.iterrows():\n",
    "    #prepare input values\n",
    "    restaurant_name = row['name'] #<class 'str'>\n",
    "    if(type(restaurant_name) == float): #nameless restaurants get skipped\n",
    "        continue\n",
    "\n",
    "    restaurant_website = row['website'] #<class 'str'>\n",
    "    if(type(restaurant_website) == float):\n",
    "        restaurant_website = 'keine Website vorhanden!'\n",
    "\n",
    "    restaurant_type = row['cuisine']\n",
    "    if(type(restaurant_type) == float):\n",
    "        restaurant_type = 'keine Kategorie!'\n",
    "\n",
    "    #EXECUTE sql_commands:\n",
    "    address_id_fk = str(int(address_id_array[idx]))\n",
    "\n",
    "    sql_fill_restaurant = \"INSERT INTO gta_p8.restaurant (address_id, restaurant_name, restaurant_website, restaurant_type) SELECT '\"+address_id_fk+\"', '\"+restaurant_name+\"', '\"+restaurant_website+\"', '\"+restaurant_type+\"' WHERE NOT EXISTS (select * from gta_p8.restaurant where restaurant_name='\"+restaurant_name+\"');\"\n",
    "\n",
    "    cur.execute(sql_fill_restaurant, (address_id_fk, restaurant_name, restaurant_website, restaurant_type))"
   ]
  },
  {
   "cell_type": "code",
   "execution_count": 1096,
   "metadata": {},
   "outputs": [],
   "source": [
    "conn.commit()\n",
    "conn.close()"
   ]
  },
  {
   "cell_type": "code",
   "execution_count": 1097,
   "metadata": {},
   "outputs": [],
   "source": [
    "conn = psycopg2.connect(**db_credentials)\n",
    "cur = conn.cursor()"
   ]
  },
  {
   "cell_type": "code",
   "execution_count": 1098,
   "metadata": {},
   "outputs": [],
   "source": [
    "for idx, row in restaurant_zurich.iterrows():\n",
    "    #prepare input values\n",
    "    restaurant_name = row['name'] #<class 'str'>\n",
    "    if(type(restaurant_name) == float): #nameless restaurants get skipped\n",
    "        continue   \n",
    "\n",
    "    lon = str(row[\"@lon\"]) #<class 'float'>\n",
    "\n",
    "    lat = str(row[\"@lat\"]) #<class 'float'>\n",
    "\n",
    "    #EXECUTE sql_commands:\n",
    "\n",
    "    geom_sql = \"UPDATE gta_p8.restaurant SET geometry = ST_SetSRID(ST_MakePoint(\"+lon+\", \"+lat+\"),4326) WHERE restaurant_name='\"+restaurant_name+\"';\"\n",
    "\n",
    "    cur.execute(geom_sql)"
   ]
  },
  {
   "cell_type": "code",
   "execution_count": 1099,
   "metadata": {},
   "outputs": [],
   "source": [
    "conn.commit()\n",
    "conn.close()"
   ]
  },
  {
   "cell_type": "markdown",
   "metadata": {},
   "source": []
  }
 ],
 "metadata": {
  "kernelspec": {
   "display_name": "gta23",
   "language": "python",
   "name": "python3"
  },
  "language_info": {
   "codemirror_mode": {
    "name": "ipython",
    "version": 3
   },
   "file_extension": ".py",
   "mimetype": "text/x-python",
   "name": "python",
   "nbconvert_exporter": "python",
   "pygments_lexer": "ipython3",
   "version": "3.9.7"
  }
 },
 "nbformat": 4,
 "nbformat_minor": 2
}
