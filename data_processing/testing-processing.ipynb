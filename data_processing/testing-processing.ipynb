{
 "cells": [
  {
   "cell_type": "code",
   "execution_count": 34,
   "metadata": {},
   "outputs": [],
   "source": [
    "import psycopg2\n",
    "from psycopg2.extensions import AsIs\n",
    "import psycopg2\n",
    "import pandas as pd\n",
    "import numpy as np\n",
    "import shapely\n",
    "from shapely import wkb\n",
    "from shapely.geometry import mapping, shape\n",
    "from flask import Flask, jsonify, request, after_this_request"
   ]
  },
  {
   "cell_type": "code",
   "execution_count": 35,
   "metadata": {},
   "outputs": [],
   "source": [
    "\n",
    "db_credentials = {\"dbname\": 'gta',\n",
    "                  \"port\": 5432,\n",
    "                  \"user\": 'gta_p8',\n",
    "                  \"password\": 'r7sdkfdq',\n",
    "                  \"host\": 'ikgpgis.ethz.ch'}"
   ]
  },
  {
   "cell_type": "code",
   "execution_count": 36,
   "metadata": {},
   "outputs": [],
   "source": [
    "#fiktiver input von flask\n",
    "trip_id = 10"
   ]
  },
  {
   "cell_type": "code",
   "execution_count": 37,
   "metadata": {},
   "outputs": [],
   "source": [
    "def get_linestring(trip_id, db_credentials):\n",
    "    trip_id = str(trip_id)\n",
    "    conn = psycopg2.connect(**db_credentials)\n",
    "    cur = conn.cursor()\n",
    "    sql_string = \"SELECT geometry FROM gta_p8.trip WHERE trip_id='\"+trip_id+\"';\"\n",
    "    cur.execute(sql_string)\n",
    "    wkb_hex = cur.fetchone()\n",
    "    conn.commit()\n",
    "    conn.close()\n",
    "    linestring = wkb.loads(bytes.fromhex(wkb_hex[0]))\n",
    "    return linestring\n"
   ]
  },
  {
   "cell_type": "code",
   "execution_count": 38,
   "metadata": {},
   "outputs": [],
   "source": [
    "def buffering_linestring(linestring, distance=15.0/1000):\n",
    "    return linestring.buffer(distance)"
   ]
  },
  {
   "cell_type": "code",
   "execution_count": 39,
   "metadata": {},
   "outputs": [],
   "source": [
    "def get_point_ids(buffer_polygon, db_credentials):\n",
    "    conn = psycopg2.connect(**db_credentials)\n",
    "    cur = conn.cursor()\n",
    "    sql_string = \"SELECT restaurant_id FROM gta_p8.restaurant WHERE ST_Contains(ST_GeomFromText('\"+str(buffer_polygon)+\"', 4326), geometry);\"\n",
    "    cur.execute(sql_string)\n",
    "    list = cur.fetchone()\n",
    "    return list\n"
   ]
  },
  {
   "cell_type": "code",
   "execution_count": 40,
   "metadata": {},
   "outputs": [],
   "source": [
    "def get_id_list(trip_id, db_credentials):\n",
    "    trip_id = str(trip_id)\n",
    "    conn = psycopg2.connect(**db_credentials)\n",
    "    cur = conn.cursor()\n",
    "    sql_string = \"SELECT restaurant_id FROM gta_p8.restaurant JOIN gta_p8.trip ON gta_p8.trip.trip_id = 10 WHERE ST_Contains(ST_Buffer(ST_Transform(gta_p8.trip.geometry, 3857),100, 'endcap=flat join=round'),ST_Transform(gta_p8.restaurant.geometry, 3857));\"\n",
    "    cur.execute(sql_string)\n",
    "    list = cur.fetchall()\n",
    "    conn.commit()\n",
    "    conn.close()\n",
    "    return list"
   ]
  },
  {
   "cell_type": "code",
   "execution_count": 44,
   "metadata": {},
   "outputs": [],
   "source": [
    "def convert_to_json(list):\n",
    "    array = []\n",
    "    for i in list:\n",
    "        array.append(i[0])\n",
    "    return array"
   ]
  },
  {
   "cell_type": "code",
   "execution_count": 45,
   "metadata": {},
   "outputs": [],
   "source": [
    "list = get_id_list(trip_id, db_credentials)"
   ]
  },
  {
   "cell_type": "code",
   "execution_count": 46,
   "metadata": {},
   "outputs": [
    {
     "name": "stdout",
     "output_type": "stream",
     "text": [
      "[(975,), (1264,)]\n",
      "[975, 1264]\n"
     ]
    }
   ],
   "source": [
    "\n",
    "json = convert_to_json(list)"
   ]
  },
  {
   "cell_type": "code",
   "execution_count": null,
   "metadata": {},
   "outputs": [],
   "source": [
    "sql_string = \"SELECT * FROM gta_p8.restaurant JOIN gta_p8.trip ON gta_p8.trip.trip_id = 10 WHERE ST_Contains(ST_Buffer(ST_Transform(gta_p8.trip.geometry, 3857),100, 'endcap=flat join=round'),ST_Transform(gta_p8.restaurant.geometry, 3857));\""
   ]
  },
  {
   "cell_type": "markdown",
   "metadata": {},
   "source": [
    "\n"
   ]
  }
 ],
 "metadata": {
  "kernelspec": {
   "display_name": "gta23",
   "language": "python",
   "name": "python3"
  },
  "language_info": {
   "codemirror_mode": {
    "name": "ipython",
    "version": 3
   },
   "file_extension": ".py",
   "mimetype": "text/x-python",
   "name": "python",
   "nbconvert_exporter": "python",
   "pygments_lexer": "ipython3",
   "version": "3.9.7"
  }
 },
 "nbformat": 4,
 "nbformat_minor": 2
}
